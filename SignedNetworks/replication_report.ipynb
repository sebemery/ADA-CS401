{
 "cells": [
  {
   "cell_type": "markdown",
   "metadata": {},
   "source": [
    "# Project : Signed Networks\n",
    "\n",
    "## Milestone : P2 and P4\n",
    "- Name : Emery  \n",
    "- Surname : Sébastien \n",
    "- Sciper : 258565\n",
    "- Groupe : Gaussiens \n",
    "- Paper : Signed Networks in Social Media (Leskovec, Huttemlocher and Kleinberg) (2010)\n",
    "- Goal : Replication of Table 1 and 3 from the paper"
   ]
  },
  {
   "cell_type": "markdown",
   "metadata": {},
   "source": [
    "# 1) Loading the data"
   ]
  },
  {
   "cell_type": "markdown",
   "metadata": {},
   "source": [
    "We first import the libraries needed for the analysis of signed networks"
   ]
  },
  {
   "cell_type": "code",
   "execution_count": 1,
   "metadata": {},
   "outputs": [],
   "source": [
    "# Libraries\n",
    "import pandas as pd\n",
    "import networkx as nx\n",
    "import igraph\n",
    "import numpy as np"
   ]
  },
  {
   "cell_type": "markdown",
   "metadata": {},
   "source": [
    "#### The three following dataset will be  analyzed: \n",
    "\n",
    "1. Epinions : soc-sign-epinions.txt \n",
    "2. Sladshot : soc-sign-Slashdot090221.txt\n",
    "3. Wikipedia : wikiElec.ElecBs3.txt\n",
    "\n",
    "- The first two files' **columns** are structured as follows : **[FromNodeId, ToNodeId, Sign]**  and can be directly loaded as pandas dataframe using the tabular separator\n",
    "- The last files has to be parsed manually to only gather the **useful informations** (nodes and edges)  "
   ]
  },
  {
   "cell_type": "markdown",
   "metadata": {},
   "source": [
    "Load epinions as a datframe with **[FromNodeId, ToNodeId, Sign]** as columns. "
   ]
  },
  {
   "cell_type": "code",
   "execution_count": 2,
   "metadata": {},
   "outputs": [
    {
     "data": {
      "text/html": [
       "<div>\n",
       "<style scoped>\n",
       "    .dataframe tbody tr th:only-of-type {\n",
       "        vertical-align: middle;\n",
       "    }\n",
       "\n",
       "    .dataframe tbody tr th {\n",
       "        vertical-align: top;\n",
       "    }\n",
       "\n",
       "    .dataframe thead th {\n",
       "        text-align: right;\n",
       "    }\n",
       "</style>\n",
       "<table border=\"1\" class=\"dataframe\">\n",
       "  <thead>\n",
       "    <tr style=\"text-align: right;\">\n",
       "      <th></th>\n",
       "      <th>FromNodeId</th>\n",
       "      <th>ToNodeId</th>\n",
       "      <th>Sign</th>\n",
       "    </tr>\n",
       "  </thead>\n",
       "  <tbody>\n",
       "    <tr>\n",
       "      <th>0</th>\n",
       "      <td>0</td>\n",
       "      <td>1</td>\n",
       "      <td>-1</td>\n",
       "    </tr>\n",
       "    <tr>\n",
       "      <th>1</th>\n",
       "      <td>1</td>\n",
       "      <td>128552</td>\n",
       "      <td>-1</td>\n",
       "    </tr>\n",
       "    <tr>\n",
       "      <th>2</th>\n",
       "      <td>2</td>\n",
       "      <td>3</td>\n",
       "      <td>1</td>\n",
       "    </tr>\n",
       "    <tr>\n",
       "      <th>3</th>\n",
       "      <td>4</td>\n",
       "      <td>5</td>\n",
       "      <td>-1</td>\n",
       "    </tr>\n",
       "    <tr>\n",
       "      <th>4</th>\n",
       "      <td>4</td>\n",
       "      <td>155</td>\n",
       "      <td>-1</td>\n",
       "    </tr>\n",
       "    <tr>\n",
       "      <th>...</th>\n",
       "      <td>...</td>\n",
       "      <td>...</td>\n",
       "      <td>...</td>\n",
       "    </tr>\n",
       "    <tr>\n",
       "      <th>841367</th>\n",
       "      <td>131821</td>\n",
       "      <td>366</td>\n",
       "      <td>1</td>\n",
       "    </tr>\n",
       "    <tr>\n",
       "      <th>841368</th>\n",
       "      <td>131822</td>\n",
       "      <td>112101</td>\n",
       "      <td>1</td>\n",
       "    </tr>\n",
       "    <tr>\n",
       "      <th>841369</th>\n",
       "      <td>131823</td>\n",
       "      <td>131824</td>\n",
       "      <td>1</td>\n",
       "    </tr>\n",
       "    <tr>\n",
       "      <th>841370</th>\n",
       "      <td>131825</td>\n",
       "      <td>131826</td>\n",
       "      <td>1</td>\n",
       "    </tr>\n",
       "    <tr>\n",
       "      <th>841371</th>\n",
       "      <td>131827</td>\n",
       "      <td>7714</td>\n",
       "      <td>1</td>\n",
       "    </tr>\n",
       "  </tbody>\n",
       "</table>\n",
       "<p>841372 rows × 3 columns</p>\n",
       "</div>"
      ],
      "text/plain": [
       "        FromNodeId  ToNodeId  Sign\n",
       "0                0         1    -1\n",
       "1                1    128552    -1\n",
       "2                2         3     1\n",
       "3                4         5    -1\n",
       "4                4       155    -1\n",
       "...            ...       ...   ...\n",
       "841367      131821       366     1\n",
       "841368      131822    112101     1\n",
       "841369      131823    131824     1\n",
       "841370      131825    131826     1\n",
       "841371      131827      7714     1\n",
       "\n",
       "[841372 rows x 3 columns]"
      ]
     },
     "execution_count": 2,
     "metadata": {},
     "output_type": "execute_result"
    }
   ],
   "source": [
    "# Load as pandas dataframe\n",
    "epinions = pd.read_csv(\"data/soc-sign-epinions.txt\",header = 3, sep='\\t')\n",
    "# Remove the '#' sign from the column name\n",
    "epinions.rename(columns={\"# FromNodeId\": \"FromNodeId\"}, inplace = True)\n",
    "epinions"
   ]
  },
  {
   "cell_type": "markdown",
   "metadata": {},
   "source": [
    "Load sladshot as a datframe with **[FromNodeId, ToNodeId, Sign]** as columns. "
   ]
  },
  {
   "cell_type": "code",
   "execution_count": 3,
   "metadata": {},
   "outputs": [
    {
     "data": {
      "text/html": [
       "<div>\n",
       "<style scoped>\n",
       "    .dataframe tbody tr th:only-of-type {\n",
       "        vertical-align: middle;\n",
       "    }\n",
       "\n",
       "    .dataframe tbody tr th {\n",
       "        vertical-align: top;\n",
       "    }\n",
       "\n",
       "    .dataframe thead th {\n",
       "        text-align: right;\n",
       "    }\n",
       "</style>\n",
       "<table border=\"1\" class=\"dataframe\">\n",
       "  <thead>\n",
       "    <tr style=\"text-align: right;\">\n",
       "      <th></th>\n",
       "      <th>FromNodeId</th>\n",
       "      <th>ToNodeId</th>\n",
       "      <th>Sign</th>\n",
       "    </tr>\n",
       "  </thead>\n",
       "  <tbody>\n",
       "    <tr>\n",
       "      <th>0</th>\n",
       "      <td>0</td>\n",
       "      <td>1</td>\n",
       "      <td>1</td>\n",
       "    </tr>\n",
       "    <tr>\n",
       "      <th>1</th>\n",
       "      <td>0</td>\n",
       "      <td>2</td>\n",
       "      <td>1</td>\n",
       "    </tr>\n",
       "    <tr>\n",
       "      <th>2</th>\n",
       "      <td>0</td>\n",
       "      <td>3</td>\n",
       "      <td>1</td>\n",
       "    </tr>\n",
       "    <tr>\n",
       "      <th>3</th>\n",
       "      <td>0</td>\n",
       "      <td>4</td>\n",
       "      <td>1</td>\n",
       "    </tr>\n",
       "    <tr>\n",
       "      <th>4</th>\n",
       "      <td>0</td>\n",
       "      <td>5</td>\n",
       "      <td>1</td>\n",
       "    </tr>\n",
       "    <tr>\n",
       "      <th>...</th>\n",
       "      <td>...</td>\n",
       "      <td>...</td>\n",
       "      <td>...</td>\n",
       "    </tr>\n",
       "    <tr>\n",
       "      <th>549197</th>\n",
       "      <td>82140</td>\n",
       "      <td>81612</td>\n",
       "      <td>1</td>\n",
       "    </tr>\n",
       "    <tr>\n",
       "      <th>549198</th>\n",
       "      <td>82141</td>\n",
       "      <td>82129</td>\n",
       "      <td>1</td>\n",
       "    </tr>\n",
       "    <tr>\n",
       "      <th>549199</th>\n",
       "      <td>82141</td>\n",
       "      <td>82142</td>\n",
       "      <td>1</td>\n",
       "    </tr>\n",
       "    <tr>\n",
       "      <th>549200</th>\n",
       "      <td>82143</td>\n",
       "      <td>81974</td>\n",
       "      <td>1</td>\n",
       "    </tr>\n",
       "    <tr>\n",
       "      <th>549201</th>\n",
       "      <td>82143</td>\n",
       "      <td>82136</td>\n",
       "      <td>1</td>\n",
       "    </tr>\n",
       "  </tbody>\n",
       "</table>\n",
       "<p>549202 rows × 3 columns</p>\n",
       "</div>"
      ],
      "text/plain": [
       "        FromNodeId  ToNodeId  Sign\n",
       "0                0         1     1\n",
       "1                0         2     1\n",
       "2                0         3     1\n",
       "3                0         4     1\n",
       "4                0         5     1\n",
       "...            ...       ...   ...\n",
       "549197       82140     81612     1\n",
       "549198       82141     82129     1\n",
       "549199       82141     82142     1\n",
       "549200       82143     81974     1\n",
       "549201       82143     82136     1\n",
       "\n",
       "[549202 rows x 3 columns]"
      ]
     },
     "execution_count": 3,
     "metadata": {},
     "output_type": "execute_result"
    }
   ],
   "source": [
    "# Load as pandas dataframe\n",
    "sladshot = pd.read_csv(\"data/soc-sign-Slashdot090221.txt\",header = 3, sep='\\t')\n",
    "# Remove the '#' sign from the column name\n",
    "sladshot.rename(columns={\"# FromNodeId\": \"FromNodeId\"}, inplace = True)\n",
    "sladshot"
   ]
  },
  {
   "cell_type": "markdown",
   "metadata": {},
   "source": [
    "#### Parsing function\n",
    "\n",
    "1. Open the the file using the right encoding and read the lines from it using the python in-build methods\n",
    "2. Iterate over each row\n",
    "3. Apart from the header, each row begins by a letter :\n",
    "    - E: is election succesful (1) or not (0)\n",
    "    - T: time election was closed\n",
    "    - U: user id (and username) of editor that is being considered for promotion\n",
    "    - N: user id (and username) of the nominator\n",
    "    - V: <vote(1:support, 0:neutral, -1:oppose)> <user_id> <time> <username>\n",
    "\n",
    "4. Only the lines with the user and voter's information are retain, because we are only interested in the voter-user information and not the temporal evolution yet for table 1. \n",
    "5. The file is structured as we have a user line first and all the voters associated after. \n",
    "6. Keep the user id in information when encounter a user line.\n",
    "7. If the vote is not neutral (0) append to list a list composed of ['VoterId','UserId', 'Sign'] using the user in memory"
   ]
  },
  {
   "cell_type": "code",
   "execution_count": 4,
   "metadata": {},
   "outputs": [],
   "source": [
    "def parse_txt_line(file_name): \n",
    "    \"\"\"\n",
    "    Input :  wikiElec.ElecBs3.txt.txt file to parse\n",
    "    Output : A list containing lists of ['VoterId','UserId', 'Sign']\n",
    "    \"\"\"\n",
    "    # output table\n",
    "    from_to_sign=[]\n",
    "    # open the file\n",
    "    with open(file_name, 'r', encoding=\"Latin-1\") as fp:\n",
    "        # read the lines\n",
    "        Lines = fp.readlines() \n",
    "        # user in memory\n",
    "        user = ''\n",
    "        for line in Lines: \n",
    "            # access a user line\n",
    "            if line[0] == 'U':\n",
    "                values_users = line.strip().split('\\t')\n",
    "                user = values_users[1]\n",
    "            # access a voter line\n",
    "            if line[0] == 'V':\n",
    "                values_voters = line.strip().split('\\t')\n",
    "                # if the vote is not neutral add ['VoterId','UserId', 'Sign']\n",
    "                if int(values_voters[1]) != 0 :\n",
    "                    from_to_sign.append([int(values_voters[2]),int(user),int(values_voters[1])])\n",
    "    return from_to_sign"
   ]
  },
  {
   "cell_type": "code",
   "execution_count": 5,
   "metadata": {},
   "outputs": [
    {
     "data": {
      "text/html": [
       "<div>\n",
       "<style scoped>\n",
       "    .dataframe tbody tr th:only-of-type {\n",
       "        vertical-align: middle;\n",
       "    }\n",
       "\n",
       "    .dataframe tbody tr th {\n",
       "        vertical-align: top;\n",
       "    }\n",
       "\n",
       "    .dataframe thead th {\n",
       "        text-align: right;\n",
       "    }\n",
       "</style>\n",
       "<table border=\"1\" class=\"dataframe\">\n",
       "  <thead>\n",
       "    <tr style=\"text-align: right;\">\n",
       "      <th></th>\n",
       "      <th>FromNodeId</th>\n",
       "      <th>ToNodeId</th>\n",
       "      <th>Sign</th>\n",
       "    </tr>\n",
       "  </thead>\n",
       "  <tbody>\n",
       "    <tr>\n",
       "      <th>0</th>\n",
       "      <td>3</td>\n",
       "      <td>30</td>\n",
       "      <td>1</td>\n",
       "    </tr>\n",
       "    <tr>\n",
       "      <th>1</th>\n",
       "      <td>25</td>\n",
       "      <td>30</td>\n",
       "      <td>-1</td>\n",
       "    </tr>\n",
       "    <tr>\n",
       "      <th>2</th>\n",
       "      <td>4</td>\n",
       "      <td>30</td>\n",
       "      <td>1</td>\n",
       "    </tr>\n",
       "    <tr>\n",
       "      <th>3</th>\n",
       "      <td>5</td>\n",
       "      <td>30</td>\n",
       "      <td>1</td>\n",
       "    </tr>\n",
       "    <tr>\n",
       "      <th>4</th>\n",
       "      <td>6</td>\n",
       "      <td>30</td>\n",
       "      <td>1</td>\n",
       "    </tr>\n",
       "    <tr>\n",
       "      <th>...</th>\n",
       "      <td>...</td>\n",
       "      <td>...</td>\n",
       "      <td>...</td>\n",
       "    </tr>\n",
       "    <tr>\n",
       "      <th>107075</th>\n",
       "      <td>8045</td>\n",
       "      <td>6307</td>\n",
       "      <td>-1</td>\n",
       "    </tr>\n",
       "    <tr>\n",
       "      <th>107076</th>\n",
       "      <td>7053</td>\n",
       "      <td>6307</td>\n",
       "      <td>-1</td>\n",
       "    </tr>\n",
       "    <tr>\n",
       "      <th>107077</th>\n",
       "      <td>6885</td>\n",
       "      <td>6307</td>\n",
       "      <td>-1</td>\n",
       "    </tr>\n",
       "    <tr>\n",
       "      <th>107078</th>\n",
       "      <td>8243</td>\n",
       "      <td>6307</td>\n",
       "      <td>-1</td>\n",
       "    </tr>\n",
       "    <tr>\n",
       "      <th>107079</th>\n",
       "      <td>3404</td>\n",
       "      <td>6307</td>\n",
       "      <td>-1</td>\n",
       "    </tr>\n",
       "  </tbody>\n",
       "</table>\n",
       "<p>107080 rows × 3 columns</p>\n",
       "</div>"
      ],
      "text/plain": [
       "        FromNodeId  ToNodeId  Sign\n",
       "0                3        30     1\n",
       "1               25        30    -1\n",
       "2                4        30     1\n",
       "3                5        30     1\n",
       "4                6        30     1\n",
       "...            ...       ...   ...\n",
       "107075        8045      6307    -1\n",
       "107076        7053      6307    -1\n",
       "107077        6885      6307    -1\n",
       "107078        8243      6307    -1\n",
       "107079        3404      6307    -1\n",
       "\n",
       "[107080 rows x 3 columns]"
      ]
     },
     "execution_count": 5,
     "metadata": {},
     "output_type": "execute_result"
    }
   ],
   "source": [
    "# parse the file using the function a get the list\n",
    "wikipedia_raw_data = parse_txt_line('data/wikiElec.ElecBs3.txt')\n",
    "# Instantiate a dataframe using the list\n",
    "wikipedia = pd.DataFrame(wikipedia_raw_data,columns=['FromNodeId', 'ToNodeId', 'Sign'])\n",
    "wikipedia"
   ]
  },
  {
   "cell_type": "markdown",
   "metadata": {},
   "source": [
    "# 2) Data Wrangling\n",
    "In this section, we will observe several facts about the graphs and create multiples version of the edgelists, which can be compared to the statistics available."
   ]
  },
  {
   "cell_type": "markdown",
   "metadata": {},
   "source": [
    "#### Neutral links removal\n",
    "The first part has already done during the parsing of the raw wikipedia file by removing the neutral votes. For the others two dataset, it either has already be done or it inherently doesn't have neutral link."
   ]
  },
  {
   "cell_type": "markdown",
   "metadata": {},
   "source": [
    "#### Duplicated links \n",
    "In the wikipedia dataset, a candidate can be presented multiples times until the election's result is positive. Therefore, multiples identical and opposite links can remain in the data. To count triangles without sign information we do not need them, as a consequence we create a filtered version for the triads analysis without duplicates."
   ]
  },
  {
   "cell_type": "code",
   "execution_count": 6,
   "metadata": {},
   "outputs": [
    {
     "name": "stdout",
     "output_type": "stream",
     "text": [
      "The number of identical duplicated links that has been removed is : 2721\n"
     ]
    },
    {
     "data": {
      "text/html": [
       "<div>\n",
       "<style scoped>\n",
       "    .dataframe tbody tr th:only-of-type {\n",
       "        vertical-align: middle;\n",
       "    }\n",
       "\n",
       "    .dataframe tbody tr th {\n",
       "        vertical-align: top;\n",
       "    }\n",
       "\n",
       "    .dataframe thead th {\n",
       "        text-align: right;\n",
       "    }\n",
       "</style>\n",
       "<table border=\"1\" class=\"dataframe\">\n",
       "  <thead>\n",
       "    <tr style=\"text-align: right;\">\n",
       "      <th></th>\n",
       "      <th>FromNodeId</th>\n",
       "      <th>ToNodeId</th>\n",
       "      <th>Sign</th>\n",
       "    </tr>\n",
       "  </thead>\n",
       "  <tbody>\n",
       "    <tr>\n",
       "      <th>0</th>\n",
       "      <td>3</td>\n",
       "      <td>30</td>\n",
       "      <td>1</td>\n",
       "    </tr>\n",
       "    <tr>\n",
       "      <th>1</th>\n",
       "      <td>25</td>\n",
       "      <td>30</td>\n",
       "      <td>-1</td>\n",
       "    </tr>\n",
       "    <tr>\n",
       "      <th>2</th>\n",
       "      <td>4</td>\n",
       "      <td>30</td>\n",
       "      <td>1</td>\n",
       "    </tr>\n",
       "    <tr>\n",
       "      <th>3</th>\n",
       "      <td>5</td>\n",
       "      <td>30</td>\n",
       "      <td>1</td>\n",
       "    </tr>\n",
       "    <tr>\n",
       "      <th>4</th>\n",
       "      <td>6</td>\n",
       "      <td>30</td>\n",
       "      <td>1</td>\n",
       "    </tr>\n",
       "    <tr>\n",
       "      <th>...</th>\n",
       "      <td>...</td>\n",
       "      <td>...</td>\n",
       "      <td>...</td>\n",
       "    </tr>\n",
       "    <tr>\n",
       "      <th>107075</th>\n",
       "      <td>8045</td>\n",
       "      <td>6307</td>\n",
       "      <td>-1</td>\n",
       "    </tr>\n",
       "    <tr>\n",
       "      <th>107076</th>\n",
       "      <td>7053</td>\n",
       "      <td>6307</td>\n",
       "      <td>-1</td>\n",
       "    </tr>\n",
       "    <tr>\n",
       "      <th>107077</th>\n",
       "      <td>6885</td>\n",
       "      <td>6307</td>\n",
       "      <td>-1</td>\n",
       "    </tr>\n",
       "    <tr>\n",
       "      <th>107078</th>\n",
       "      <td>8243</td>\n",
       "      <td>6307</td>\n",
       "      <td>-1</td>\n",
       "    </tr>\n",
       "    <tr>\n",
       "      <th>107079</th>\n",
       "      <td>3404</td>\n",
       "      <td>6307</td>\n",
       "      <td>-1</td>\n",
       "    </tr>\n",
       "  </tbody>\n",
       "</table>\n",
       "<p>104359 rows × 3 columns</p>\n",
       "</div>"
      ],
      "text/plain": [
       "        FromNodeId  ToNodeId  Sign\n",
       "0                3        30     1\n",
       "1               25        30    -1\n",
       "2                4        30     1\n",
       "3                5        30     1\n",
       "4                6        30     1\n",
       "...            ...       ...   ...\n",
       "107075        8045      6307    -1\n",
       "107076        7053      6307    -1\n",
       "107077        6885      6307    -1\n",
       "107078        8243      6307    -1\n",
       "107079        3404      6307    -1\n",
       "\n",
       "[104359 rows x 3 columns]"
      ]
     },
     "execution_count": 6,
     "metadata": {},
     "output_type": "execute_result"
    }
   ],
   "source": [
    "# 1) Removal of identical duplicated links\n",
    "# keep the last occurence of the any links duplicated or not -> filter every occurence of duplicated links except the last \n",
    "wikipedia_duplicated_identical = wikipedia[wikipedia.duplicated(keep='last') == False]\n",
    "print('The number of identical duplicated links that has been removed is : {}'.format( len(wikipedia.index)-len(wikipedia_duplicated_identical.index)))\n",
    "wikipedia_duplicated_identical"
   ]
  },
  {
   "cell_type": "code",
   "execution_count": 7,
   "metadata": {},
   "outputs": [
    {
     "name": "stdout",
     "output_type": "stream",
     "text": [
      "The number of opposite sign duplicated links that has been removed is : 612\n"
     ]
    },
    {
     "data": {
      "text/html": [
       "<div>\n",
       "<style scoped>\n",
       "    .dataframe tbody tr th:only-of-type {\n",
       "        vertical-align: middle;\n",
       "    }\n",
       "\n",
       "    .dataframe tbody tr th {\n",
       "        vertical-align: top;\n",
       "    }\n",
       "\n",
       "    .dataframe thead th {\n",
       "        text-align: right;\n",
       "    }\n",
       "</style>\n",
       "<table border=\"1\" class=\"dataframe\">\n",
       "  <thead>\n",
       "    <tr style=\"text-align: right;\">\n",
       "      <th></th>\n",
       "      <th>FromNodeId</th>\n",
       "      <th>ToNodeId</th>\n",
       "      <th>Sign</th>\n",
       "    </tr>\n",
       "  </thead>\n",
       "  <tbody>\n",
       "    <tr>\n",
       "      <th>0</th>\n",
       "      <td>3</td>\n",
       "      <td>30</td>\n",
       "      <td>1</td>\n",
       "    </tr>\n",
       "    <tr>\n",
       "      <th>1</th>\n",
       "      <td>25</td>\n",
       "      <td>30</td>\n",
       "      <td>-1</td>\n",
       "    </tr>\n",
       "    <tr>\n",
       "      <th>2</th>\n",
       "      <td>4</td>\n",
       "      <td>30</td>\n",
       "      <td>1</td>\n",
       "    </tr>\n",
       "    <tr>\n",
       "      <th>3</th>\n",
       "      <td>5</td>\n",
       "      <td>30</td>\n",
       "      <td>1</td>\n",
       "    </tr>\n",
       "    <tr>\n",
       "      <th>4</th>\n",
       "      <td>6</td>\n",
       "      <td>30</td>\n",
       "      <td>1</td>\n",
       "    </tr>\n",
       "    <tr>\n",
       "      <th>...</th>\n",
       "      <td>...</td>\n",
       "      <td>...</td>\n",
       "      <td>...</td>\n",
       "    </tr>\n",
       "    <tr>\n",
       "      <th>103742</th>\n",
       "      <td>8045</td>\n",
       "      <td>6307</td>\n",
       "      <td>-1</td>\n",
       "    </tr>\n",
       "    <tr>\n",
       "      <th>103743</th>\n",
       "      <td>7053</td>\n",
       "      <td>6307</td>\n",
       "      <td>-1</td>\n",
       "    </tr>\n",
       "    <tr>\n",
       "      <th>103744</th>\n",
       "      <td>6885</td>\n",
       "      <td>6307</td>\n",
       "      <td>-1</td>\n",
       "    </tr>\n",
       "    <tr>\n",
       "      <th>103745</th>\n",
       "      <td>8243</td>\n",
       "      <td>6307</td>\n",
       "      <td>-1</td>\n",
       "    </tr>\n",
       "    <tr>\n",
       "      <th>103746</th>\n",
       "      <td>3404</td>\n",
       "      <td>6307</td>\n",
       "      <td>-1</td>\n",
       "    </tr>\n",
       "  </tbody>\n",
       "</table>\n",
       "<p>103747 rows × 3 columns</p>\n",
       "</div>"
      ],
      "text/plain": [
       "        FromNodeId  ToNodeId  Sign\n",
       "0                3        30     1\n",
       "1               25        30    -1\n",
       "2                4        30     1\n",
       "3                5        30     1\n",
       "4                6        30     1\n",
       "...            ...       ...   ...\n",
       "103742        8045      6307    -1\n",
       "103743        7053      6307    -1\n",
       "103744        6885      6307    -1\n",
       "103745        8243      6307    -1\n",
       "103746        3404      6307    -1\n",
       "\n",
       "[103747 rows x 3 columns]"
      ]
     },
     "execution_count": 7,
     "metadata": {},
     "output_type": "execute_result"
    }
   ],
   "source": [
    "# 2) Removal of opposite sign duplicated links\n",
    "# keep the last occurence of the identical pair of (user,voters) independently of the sign it will result \n",
    "wikipedia_duplicated = wikipedia_duplicated_identical[wikipedia_duplicated_identical.duplicated(['FromNodeId','ToNodeId'],keep='last') == False]\n",
    "print('The number of opposite sign duplicated links that has been removed is : {}'.format( len(wikipedia_duplicated_identical.index)-len(wikipedia_duplicated.index)))\n",
    "# reset the index \n",
    "wikipedia_duplicated = wikipedia_duplicated.reset_index(drop=True)\n",
    "wikipedia_duplicated"
   ]
  },
  {
   "cell_type": "markdown",
   "metadata": {},
   "source": [
    "#### Self connections\n",
    "As for the duplicated links, self connections do not impact triangles and triads. However, it can impact the number of nodes and of course edges. I create a dataframe with self connections removed to be able to compare the statistics with https://snap.stanford.edu/data/wiki-Vote.html, which has removed them, for the triangle counting part. For, the sake of completness I also remove the self connections of epinions and sladshot does not have any."
   ]
  },
  {
   "cell_type": "code",
   "execution_count": 8,
   "metadata": {},
   "outputs": [
    {
     "name": "stdout",
     "output_type": "stream",
     "text": [
      "The number of self connections that has been removed is : 573\n"
     ]
    }
   ],
   "source": [
    "# remove self connections by locating every pair that has different ids\n",
    "epinions_self = epinions.loc[epinions['FromNodeId'] != epinions['ToNodeId']]\n",
    "print('The number of self connections that has been removed is : {}'.format( len(epinions.index)-len(epinions_self.index)))"
   ]
  },
  {
   "cell_type": "code",
   "execution_count": 9,
   "metadata": {},
   "outputs": [
    {
     "name": "stdout",
     "output_type": "stream",
     "text": [
      "The number of self connections that has been removed is : 58\n"
     ]
    },
    {
     "data": {
      "text/html": [
       "<div>\n",
       "<style scoped>\n",
       "    .dataframe tbody tr th:only-of-type {\n",
       "        vertical-align: middle;\n",
       "    }\n",
       "\n",
       "    .dataframe tbody tr th {\n",
       "        vertical-align: top;\n",
       "    }\n",
       "\n",
       "    .dataframe thead th {\n",
       "        text-align: right;\n",
       "    }\n",
       "</style>\n",
       "<table border=\"1\" class=\"dataframe\">\n",
       "  <thead>\n",
       "    <tr style=\"text-align: right;\">\n",
       "      <th></th>\n",
       "      <th>FromNodeId</th>\n",
       "      <th>ToNodeId</th>\n",
       "      <th>Sign</th>\n",
       "    </tr>\n",
       "  </thead>\n",
       "  <tbody>\n",
       "    <tr>\n",
       "      <th>0</th>\n",
       "      <td>3</td>\n",
       "      <td>30</td>\n",
       "      <td>1</td>\n",
       "    </tr>\n",
       "    <tr>\n",
       "      <th>1</th>\n",
       "      <td>25</td>\n",
       "      <td>30</td>\n",
       "      <td>-1</td>\n",
       "    </tr>\n",
       "    <tr>\n",
       "      <th>2</th>\n",
       "      <td>4</td>\n",
       "      <td>30</td>\n",
       "      <td>1</td>\n",
       "    </tr>\n",
       "    <tr>\n",
       "      <th>3</th>\n",
       "      <td>5</td>\n",
       "      <td>30</td>\n",
       "      <td>1</td>\n",
       "    </tr>\n",
       "    <tr>\n",
       "      <th>4</th>\n",
       "      <td>6</td>\n",
       "      <td>30</td>\n",
       "      <td>1</td>\n",
       "    </tr>\n",
       "    <tr>\n",
       "      <th>...</th>\n",
       "      <td>...</td>\n",
       "      <td>...</td>\n",
       "      <td>...</td>\n",
       "    </tr>\n",
       "    <tr>\n",
       "      <th>103684</th>\n",
       "      <td>8045</td>\n",
       "      <td>6307</td>\n",
       "      <td>-1</td>\n",
       "    </tr>\n",
       "    <tr>\n",
       "      <th>103685</th>\n",
       "      <td>7053</td>\n",
       "      <td>6307</td>\n",
       "      <td>-1</td>\n",
       "    </tr>\n",
       "    <tr>\n",
       "      <th>103686</th>\n",
       "      <td>6885</td>\n",
       "      <td>6307</td>\n",
       "      <td>-1</td>\n",
       "    </tr>\n",
       "    <tr>\n",
       "      <th>103687</th>\n",
       "      <td>8243</td>\n",
       "      <td>6307</td>\n",
       "      <td>-1</td>\n",
       "    </tr>\n",
       "    <tr>\n",
       "      <th>103688</th>\n",
       "      <td>3404</td>\n",
       "      <td>6307</td>\n",
       "      <td>-1</td>\n",
       "    </tr>\n",
       "  </tbody>\n",
       "</table>\n",
       "<p>103689 rows × 3 columns</p>\n",
       "</div>"
      ],
      "text/plain": [
       "        FromNodeId  ToNodeId  Sign\n",
       "0                3        30     1\n",
       "1               25        30    -1\n",
       "2                4        30     1\n",
       "3                5        30     1\n",
       "4                6        30     1\n",
       "...            ...       ...   ...\n",
       "103684        8045      6307    -1\n",
       "103685        7053      6307    -1\n",
       "103686        6885      6307    -1\n",
       "103687        8243      6307    -1\n",
       "103688        3404      6307    -1\n",
       "\n",
       "[103689 rows x 3 columns]"
      ]
     },
     "execution_count": 9,
     "metadata": {},
     "output_type": "execute_result"
    }
   ],
   "source": [
    "# remove self connections by locating every pair that has different ids\n",
    "wikipedia_self_duplicated = wikipedia_duplicated.loc[wikipedia_duplicated['FromNodeId'] != wikipedia_duplicated['ToNodeId']]\n",
    "print('The number of self connections that has been removed is : {}'.format( len(wikipedia_duplicated.index)-len(wikipedia_self_duplicated.index)))\n",
    "# reset the index \n",
    "wikipedia_self_duplicated = wikipedia_self_duplicated.reset_index(drop=True)\n",
    "wikipedia_self_duplicated"
   ]
  },
  {
   "cell_type": "markdown",
   "metadata": {},
   "source": [
    "#### Summary of the different dataframe created and when they are used\n",
    "\n",
    "|          Dataframe        |                Status                |              Usage                   |\n",
    "|---------------------------|:------------------------------------:|-------------------------------------:|\n",
    "|          epinions         |               raw data               | Triangle analysis,Table1 replication |\n",
    "|          sladshot         |               raw data               | Triangle analysis,Table1 replication |\n",
    "|          wikipedia        |           neutral filtered           |            Not used                  |\n",
    "|    wikipedia_duplicated   |   neutral and duplicated filtered    |        Table1 replication            |\n",
    "| wikipedia_self_duplicated | neutral,duplicated and self filtered |        Triangle analysis             |"
   ]
  },
  {
   "cell_type": "markdown",
   "metadata": {},
   "source": [
    "# 3) Triangles analysis\n",
    "In this section, we analyse the number of triangles present in each graph without sign and reciprocated edges information. As a matter of fact, reciprocated edges become one edge in undirected representation and without sign information, we do not need to worry about them. We will use the networkx library to construct the directed graph from our pandas dataframe as edges list and code our own function for triangle analysis using the undirected representation of the graph using the networkx function."
   ]
  },
  {
   "cell_type": "markdown",
   "metadata": {},
   "source": [
    "#### Graph instantiation"
   ]
  },
  {
   "cell_type": "code",
   "execution_count": 10,
   "metadata": {},
   "outputs": [
    {
     "name": "stdout",
     "output_type": "stream",
     "text": [
      "Nodes: 131828, Edges: 841372\n"
     ]
    }
   ],
   "source": [
    "# epinions\n",
    "G_epinions = nx.from_pandas_edgelist(epinions, 'FromNodeId', 'ToNodeId',[\"Sign\"], create_using=nx.DiGraph()) \n",
    "print('Nodes: {n}, Edges: {e}'.format(n=nx.number_of_nodes(G_epinions), e=nx.number_of_edges(G_epinions)))"
   ]
  },
  {
   "cell_type": "code",
   "execution_count": 11,
   "metadata": {},
   "outputs": [
    {
     "name": "stdout",
     "output_type": "stream",
     "text": [
      "Nodes: 82140, Edges: 549202\n"
     ]
    }
   ],
   "source": [
    "# sladshot\n",
    "G_sladshot = nx.from_pandas_edgelist(sladshot, 'FromNodeId', 'ToNodeId',[\"Sign\"], create_using=nx.DiGraph()) \n",
    "print('Nodes: {n}, Edges: {e}'.format(n=nx.number_of_nodes(G_sladshot), e=nx.number_of_edges(G_sladshot)))"
   ]
  },
  {
   "cell_type": "markdown",
   "metadata": {},
   "source": [
    "**Use the wikipedia edges list without duplicated edges an self connection, as they do not impact the triangles counting and to be comparable with the statistics provided on the stanford website**"
   ]
  },
  {
   "cell_type": "code",
   "execution_count": 12,
   "metadata": {},
   "outputs": [
    {
     "name": "stdout",
     "output_type": "stream",
     "text": [
      "Nodes: 7115, Edges: 103689\n"
     ]
    }
   ],
   "source": [
    "# wikipedia\n",
    "G_wikipedia = nx.from_pandas_edgelist(wikipedia_self_duplicated, 'FromNodeId', 'ToNodeId',[\"Sign\"], create_using=nx.DiGraph()) \n",
    "print('Nodes: {n}, Edges: {e}'.format(n=nx.number_of_nodes(G_wikipedia), e=nx.number_of_edges(G_wikipedia)))"
   ]
  },
  {
   "cell_type": "markdown",
   "metadata": {},
   "source": [
    "#### Triangles counting"
   ]
  },
  {
   "cell_type": "markdown",
   "metadata": {},
   "source": [
    "The triangles counting is done by a custom function working on the dictionary representation of the graph. This is obtained using the _nx.to_dict_of_dicts()_ function that returns a dictionary with every nodes as principal keys and all the nodes connected to them as nested dictionnary linked to the main key. This avoid us to iterate on every three nodes combinations of the graph and saves us a lot of time. It works as follows :\n",
    "1. Iterate over every nodes\n",
    "2. For every nodes iterate over the keys inside the nested dictonnary (ie every connected node to the first)\n",
    "3. For every second node connected to the first, iterate over its connected nodes\n",
    "4. Check if the connnected nodes to the second is connected to the first\n",
    "5. Sort the combination of three nodes so the order does not matter ( count only once no matter the combinations possible)\n",
    "6. Save the result as a tuple of three nodes in a set, which can only have an element once in it\n",
    "7. To have the number of triangle get the lenght of the ouptut set"
   ]
  },
  {
   "cell_type": "markdown",
   "metadata": {},
   "source": [
    "**Only work for undirected representation of the graph as the connections is present in both nested dictionary for both nodes** <br>\n",
    "Example :\n",
    "1) 1->2 connection <br>\n",
    "2) Corresponding directed dictionnary : {1:{2:{sign: }}} <br>\n",
    "3) Corresponding undirected dictionnary : {1:{2:{sign: }},2:{1:{sign:}}}"
   ]
  },
  {
   "cell_type": "code",
   "execution_count": 13,
   "metadata": {},
   "outputs": [],
   "source": [
    "def triangles(m):\n",
    "    \"\"\"\n",
    "    A function that compute the number of triangle in an undirected graph\n",
    "    \n",
    "    Input : A sparse dictonnary representation of the graph\n",
    "    Output : A set containing every tuples of vertices involved in a triangle\n",
    "    \"\"\"\n",
    "    # ouptut set of tuples\n",
    "    out = { 3: set()}\n",
    "    # Iterate over every nodes in the graph\n",
    "    for i, (n1, row) in enumerate(m.items()):\n",
    "        # get all the connected nodes -> existing keys\n",
    "        for n2 in row.keys():\n",
    "            # iterate over row of connected node\n",
    "            for n3 in m[n2]:\n",
    "                # n1 exists in this row, all 3 nodes are connected to each other -> triangle\n",
    "                if n3 in row:\n",
    "                    if len({n1, n2, n3}) == 3:\n",
    "                        t = tuple(sorted((n1, n2, n3)))\n",
    "                        out[3].add(t)\n",
    "    return out"
   ]
  },
  {
   "cell_type": "code",
   "execution_count": 14,
   "metadata": {
    "scrolled": true
   },
   "outputs": [
    {
     "name": "stdout",
     "output_type": "stream",
     "text": [
      "The number of triangles in epinions is : 4910076\n",
      "Wall time: 1min 3s\n"
     ]
    }
   ],
   "source": [
    "%%time\n",
    "# Epinions\n",
    "# undirected representation\n",
    "G_epinions_un = G_epinions.to_undirected()\n",
    "# get the dictionary\n",
    "Epinions_dict = nx.to_dict_of_dicts(G_epinions_un)\n",
    "#compute triangles\n",
    "epinions_triangles = triangles(Epinions_dict)\n",
    "print('The number of triangles in epinions is : {}'.format(len(epinions_triangles[3])))"
   ]
  },
  {
   "cell_type": "code",
   "execution_count": 15,
   "metadata": {},
   "outputs": [
    {
     "name": "stdout",
     "output_type": "stream",
     "text": [
      "The number of triangles in epinions is : 579565\n",
      "Wall time: 19.7 s\n"
     ]
    }
   ],
   "source": [
    "%%time\n",
    "# Sladshot\n",
    "# undirected representation\n",
    "G_sladshot_un = G_sladshot.to_undirected()\n",
    "# get the dictionary\n",
    "Sladshot_dict = nx.to_dict_of_dicts(G_sladshot_un)\n",
    "#compute triangles\n",
    "sladshot_triangles = triangles(Sladshot_dict)\n",
    "print('The number of triangles in epinions is : {}'.format(len(sladshot_triangles[3])))"
   ]
  },
  {
   "cell_type": "code",
   "execution_count": 16,
   "metadata": {},
   "outputs": [
    {
     "name": "stdout",
     "output_type": "stream",
     "text": [
      "The number of triangles in epinions is : 608389\n",
      "Wall time: 6.93 s\n"
     ]
    }
   ],
   "source": [
    "%%time\n",
    "# wikipedia\n",
    "# undirected representation\n",
    "G_wikipedia_un = G_wikipedia.to_undirected()\n",
    "# get the dictionary\n",
    "Wikipedia_dict = nx.to_dict_of_dicts(G_wikipedia_un)\n",
    "#compute triangles\n",
    "wikipedia_triangles = triangles(Wikipedia_dict)\n",
    "print('The number of triangles in epinions is : {}'.format(len(wikipedia_triangles[3])))"
   ]
  },
  {
   "cell_type": "markdown",
   "metadata": {},
   "source": [
    "#### Results \n",
    "\n",
    "We summarize the results obtained in the following table :\n",
    "\n",
    "|                        |    Epinions   |   Sladshot   |   Wikipedia   |\n",
    "|------------------------|:-------------:|:------------:|--------------:|\n",
    "|          Nodes         |    131828     |    82140     |     7115      |\n",
    "|          Edges         |    841372     |    549202    |     103689    |\n",
    "|        Triangles       |    4910076    |    579565    |     608389    |\n",
    "\n",
    "Those results coincide with the statistics of the graph from the three dataset downloaded at the following URL :\n",
    "\n",
    "1. https://snap.stanford.edu/data/soc-sign-epinions.html\n",
    "2. http://snap.stanford.edu/data/soc-sign-Slashdot090221.html\n",
    "3. https://snap.stanford.edu/data/wiki-Vote.html\n",
    "\n",
    "Therefore, we were able to find every undirected triangle without sign information in the three graph. This is the first step to replicate Table 1, where the sign information is needed and it will be done in the next section."
   ]
  },
  {
   "cell_type": "markdown",
   "metadata": {},
   "source": [
    "# 4)  Replication of Table 1\n",
    "In this section we try to replicate results from table 1 by incorporating the sign information of the edges. The first attempt is done using the triad_census function and speculating about the edges' sign. The second attempt wants to validate the first reasonning by finding the sign of the edges in the dataset during triangle counting to discriminate between signed triangles."
   ]
  },
  {
   "cell_type": "markdown",
   "metadata": {},
   "source": [
    "## A) Triad_census\n",
    "The triadic census of a directed graph is summarized in the image below, but it is basically every possible way to connect three nodes with reciprocated edges possibles and no parrallel edges. There are sixteen types as explained in the following paper : [1] Vladimir Batagelj and Andrej Mrvar, A subquadratic triad census algorithm for large sparse networks with small maximum degree, University of Ljubljana\n",
    "<br>\n",
    "<img src=\"https://raw.githubusercontent.com/sebemery/ADA-CS401/main/SignedNetworks/images/triads_census.png\" height=\"800\" width=\"400\">\n",
    "<br>\n",
    "<br>\n",
    "Thus theoretically, the number of triangles found previously should matched the number of closed triads in the triadic census, as we are not taking into account signs and parrallel edges are forbidden. Moreover, we did not count reciprocated edges as two possibles triangles, therefore only counted them once. In the triadic census there are counted once also with taking into account that it is a reciprocated edges."
   ]
  },
  {
   "cell_type": "markdown",
   "metadata": {},
   "source": [
    "#### Triadic census matching triangles\n",
    "In this analysis we use the _triad_census()_ function provided by the library igraph-python. The reason why we use this implementation rather than the networkx's one, is that it runs much faster (not shown here, but encountered during the process). This probably comes, that some of the functionality provided by the library are running in the C language, that is faster than python. The networkx's method is _O(m)_ with m the number of edges, the time complexity of the igraph's method is not available and I did not find the _triad_census_ C implementation, therefore we do not know the time complexity. However, it should not be much different form the networkx one and not impact a lot the difference in running time."
   ]
  },
  {
   "cell_type": "code",
   "execution_count": 17,
   "metadata": {},
   "outputs": [
    {
     "name": "stdout",
     "output_type": "stream",
     "text": [
      "Nodes: 131828, Edges: 841372\n"
     ]
    }
   ],
   "source": [
    "# epinions\n",
    "# create a directed graph\n",
    "g_epinions = igraph.Graph.DataFrame(epinions, directed=True)\n",
    "print('Nodes: {n}, Edges: {e}'.format(n= g_epinions.vcount(), e=g_epinions.ecount()))"
   ]
  },
  {
   "cell_type": "code",
   "execution_count": 18,
   "metadata": {},
   "outputs": [
    {
     "name": "stdout",
     "output_type": "stream",
     "text": [
      "Nodes: 82140, Edges: 549202\n"
     ]
    }
   ],
   "source": [
    "# sladshot\n",
    "# create a directed graph\n",
    "g_sladshot = igraph.Graph.DataFrame(sladshot, directed=True)\n",
    "print('Nodes: {n}, Edges: {e}'.format(n= g_sladshot.vcount(), e=g_sladshot.ecount()))"
   ]
  },
  {
   "cell_type": "markdown",
   "metadata": {},
   "source": [
    "**Use the wikipedia_duplicated edges list, as the statistics or nodes and edges matches the statistics of Table 1 in the paper, therefore, they probably worked with this data**"
   ]
  },
  {
   "cell_type": "code",
   "execution_count": 19,
   "metadata": {},
   "outputs": [
    {
     "name": "stdout",
     "output_type": "stream",
     "text": [
      "Nodes: 7118, Edges: 103747\n"
     ]
    }
   ],
   "source": [
    "# wikipedia\n",
    "# create a directed graph\n",
    "g_wikipedia = igraph.Graph.DataFrame(wikipedia_duplicated, directed=True)\n",
    "print('Nodes: {n}, Edges: {e}'.format(n= g_wikipedia.vcount(), e=g_wikipedia.ecount()))"
   ]
  },
  {
   "cell_type": "code",
   "execution_count": 20,
   "metadata": {},
   "outputs": [
    {
     "name": "stdout",
     "output_type": "stream",
     "text": [
      "Wall time: 2min 53s\n"
     ]
    }
   ],
   "source": [
    "%%time\n",
    "# triadic_census for epinions\n",
    "tc_epinions = g_epinions.triad_census()"
   ]
  },
  {
   "cell_type": "code",
   "execution_count": 21,
   "metadata": {},
   "outputs": [
    {
     "name": "stdout",
     "output_type": "stream",
     "text": [
      "Wall time: 27.8 s\n"
     ]
    }
   ],
   "source": [
    "%%time\n",
    "# triadic_census for sladshot\n",
    "tc_sladshot = g_sladshot.triad_census()"
   ]
  },
  {
   "cell_type": "code",
   "execution_count": 22,
   "metadata": {},
   "outputs": [
    {
     "name": "stdout",
     "output_type": "stream",
     "text": [
      "Wall time: 7.26 s\n"
     ]
    }
   ],
   "source": [
    "%%time\n",
    "# triadic_census for wikipedia\n",
    "tc_wikipedia = g_wikipedia.triad_census()"
   ]
  },
  {
   "cell_type": "markdown",
   "metadata": {},
   "source": [
    "The _triad_census()_ method return a dictionary with the keys corresponding to the label on the image diplayed above and the number associated. Therefore to count the number of triangles we just access the keys that are closed triads and summed them."
   ]
  },
  {
   "cell_type": "code",
   "execution_count": 23,
   "metadata": {},
   "outputs": [
    {
     "name": "stdout",
     "output_type": "stream",
     "text": [
      "The number of triangles with the triad_census method for epinions is : 4910076\n",
      "The number of triangles with  the triad_census method for sladshot is : 579565\n",
      "The number of triangles with  the triad_census method for wikipedia is : 608389\n"
     ]
    }
   ],
   "source": [
    "# triangles counting\n",
    "triangles_epinions = tc_epinions['030T'] + tc_epinions['030C'] + tc_epinions['120D'] + tc_epinions['120U'] + tc_epinions['120C'] + tc_epinions['210'] + tc_epinions['300']\n",
    "triangles_sladshot = tc_sladshot['030T'] + tc_sladshot['030C'] + tc_sladshot['120D'] + tc_sladshot['120U'] + tc_sladshot['120C'] + tc_sladshot['210'] + tc_sladshot['300']\n",
    "triangless_wikipedia = tc_wikipedia['030T'] + tc_wikipedia['030C'] + tc_wikipedia['120D'] + tc_wikipedia['120U'] + tc_wikipedia['120C'] + tc_wikipedia['210'] + tc_wikipedia['300']\n",
    "print('The number of triangles with the triad_census method for epinions is : {n}'.format(n= triangles_epinions))\n",
    "print('The number of triangles with  the triad_census method for sladshot is : {n}'.format(n= triangles_sladshot))\n",
    "print('The number of triangles with  the triad_census method for wikipedia is : {n}'.format(n= triangless_wikipedia))"
   ]
  },
  {
   "cell_type": "markdown",
   "metadata": {},
   "source": [
    "As expected we get the same number of triangles as the method in the previous part even for wikipedia as we just add self connections which do not impact triangles. This was done to justify the next reasonning."
   ]
  },
  {
   "cell_type": "markdown",
   "metadata": {},
   "source": [
    "#### Triadic census for signed triangles\n",
    "As the number of triangles is the same for both, we can see that reciprocated edges are counted as one single edges without directionality in the case of triangles. However, if we want to take the sign into account, those reciprocated edges becomes one, but the sign could be either 1 or -1 depending on the sign of the reciprocated edges. Thus, to differentiate signed triangles, we can speculate and say that in the data the reciprocated edges have the opposite sign. Therefore, when counting the sign we need to multiply by two the number of unsigned triangles for each reciprocated edges in it to get the two signed version one with 1 and one with -1 for the previously reciprocated edges. "
   ]
  },
  {
   "cell_type": "code",
   "execution_count": 24,
   "metadata": {},
   "outputs": [
    {
     "name": "stdout",
     "output_type": "stream",
     "text": [
      "The number of triads with sign taking into account for epinions is : 13317672\n",
      "The number of triads with sign taking into account for sladshot is : 1508105\n",
      "The number of triads with sign taking into account for wikipedia is : 790532\n"
     ]
    }
   ],
   "source": [
    "# signed triangles counting\n",
    "triads_epinions = tc_epinions['030T'] + tc_epinions['030C'] + 2*tc_epinions['120D'] + 2*tc_epinions['120U'] + 2*tc_epinions['120C'] + 4*tc_epinions['210'] + 8*tc_epinions['300']\n",
    "triads_sladshot = tc_sladshot['030T'] + tc_sladshot['030C'] + 2*tc_sladshot['120D'] + 2*tc_sladshot['120U'] + 2*tc_sladshot['120C'] + 4*tc_sladshot['210'] + 8*tc_sladshot['300']\n",
    "triads_wikipedia = tc_wikipedia['030T'] + tc_wikipedia['030C'] + 2*tc_wikipedia['120D'] + 2*tc_wikipedia['120U'] + 2*tc_wikipedia['120C'] + 4*tc_wikipedia['210'] + 8*tc_wikipedia['300']\n",
    "print('The number of triads with sign taking into account for epinions is : {n}'.format(n= triads_epinions))\n",
    "print('The number of triads with sign taking into account for sladshot is : {n}'.format(n= triads_sladshot))\n",
    "print('The number of triads with sign taking into account for wikipedia is : {n}'.format(n= triads_wikipedia))"
   ]
  },
  {
   "cell_type": "markdown",
   "metadata": {},
   "source": [
    "Results shows that for both sladshot and wikipedia we get the same number of signed triads and a similar value for the epinions network."
   ]
  },
  {
   "cell_type": "markdown",
   "metadata": {},
   "source": [
    "#### Edges percentage \n",
    "Get the the percentage of each type of edges using the pandas edges list to count the occurence of both types "
   ]
  },
  {
   "cell_type": "code",
   "execution_count": 25,
   "metadata": {},
   "outputs": [],
   "source": [
    "# Get the number of edges type as a series with two values\n",
    "epinions_sign = epinions['Sign'].value_counts()\n",
    "sladshot_sign = sladshot['Sign'].value_counts()\n",
    "wikipedia_sign = wikipedia_duplicated['Sign'].value_counts()"
   ]
  },
  {
   "cell_type": "code",
   "execution_count": 26,
   "metadata": {},
   "outputs": [
    {
     "name": "stdout",
     "output_type": "stream",
     "text": [
      "The epinions percentage of (+) edges is : 85.29722881198803 and (-) edges is : 14.702771188011962\n",
      "The sladshot percentage of (+) edges is : 77.39811581166856 and (-) edges is : 22.601884188331432\n",
      "The wikipedia percentage of (+) edges is : 78.7858926041235 and (-) edges is : 21.214107395876507\n"
     ]
    }
   ],
   "source": [
    "# Display the percentage as the occurence divide by the total\n",
    "print('The epinions percentage of (+) edges is : {e1} and (-) edges is : {e2}'.format(e1= epinions_sign[1]/(epinions_sign[1]+epinions_sign[-1])*100,e2 =  epinions_sign[-1]/(epinions_sign[1]+epinions_sign[-1])*100  ))\n",
    "print('The sladshot percentage of (+) edges is : {e1} and (-) edges is : {e2}'.format(e1= sladshot_sign[1]/(sladshot_sign[1]+sladshot_sign[-1])*100,e2 =  sladshot_sign[-1]/(sladshot_sign[1]+sladshot_sign[-1])*100  ))\n",
    "print('The wikipedia percentage of (+) edges is : {e1} and (-) edges is : {e2}'.format(e1= wikipedia_sign[1]/(wikipedia_sign[1]+wikipedia_sign[-1])*100,e2 =  wikipedia_sign[-1]/(wikipedia_sign[1]+wikipedia_sign[-1])*100  ))"
   ]
  },
  {
   "cell_type": "markdown",
   "metadata": {},
   "source": [
    "#### Results \n",
    "\n",
    "We summarize the results obtained in the following table :\n",
    "\n",
    "|                        |    Epinions   |   Sladshot   |   Wikipedia   |\n",
    "|------------------------|:-------------:|:------------:|--------------:|\n",
    "|          Nodes         |    131828     |    82140     |     7118      |\n",
    "|          Edges         |    841372     |    549202    |     103747    |\n",
    "|        (+) Edges       |    85.3 %     |    77.4 %    |     78.79 %   |\n",
    "|        (-) Edges       |    14.7 %     |    22.6 %    |     21.21 %   |\n",
    "|          Triads        |   13317672    |   1508105    |     790532    |"
   ]
  },
  {
   "cell_type": "markdown",
   "metadata": {},
   "source": [
    "#### Discussion\n",
    "1. The sladshot network has four nodes less than in the paper. However, statistics from the standford websites is consistent with the number of nodes obtained. They either worked with a slighlty different dataset with four more nodes or they just took the highest id plus one to get this number. Indeed, the list of ids goes from 0 to 82143 with four ids missing : 11681, 73374, 78483 and 79626 (code not provided, trivial task)\n",
    "2. The number of nodes and edges from the epinions network differ from the number in the paper, but the percentage remains close to the paper. No clear explanation was provided on data wrangling and no obvious processing as the removing the duplicated edges or self connections ( 573 edges removed and at best 573 nodes removed)  get us close to the paper's number, this is the best attempt we achieved.\n",
    "3. The number of triangles is the same for the three dataset compared to the stanford websites and the number of signed triads is the same for sladshot and wikipedia compared to the paper. However, it is different for epinions (little bit less) , but in the same magnitudes. This comes probably from the slightly different version of the data.\n",
    "4. All others numbers not mentionned previously are exactly replicated."
   ]
  },
  {
   "cell_type": "markdown",
   "metadata": {},
   "source": [
    "## B) Signed triangles\n",
    "In this section, we try to access the access the sign of the reciprocated edges in the directed representation of the graph to confirm the results obtained in A) and not speculate."
   ]
  },
  {
   "cell_type": "markdown",
   "metadata": {},
   "source": [
    "#### Signed triangles counting\n",
    "The principles of the custom function used are the following :\n",
    "1. Uses the set of tuples containing the triplets of nodes containing the triangles (from part 3)\n",
    "2. Iterate over each tuple/triangle\n",
    "3. Signed triangles are constituted of one undirected edge between each nodes coming from either one directed edge or a reciprocated edges\n",
    "4. For each triplet, there can be eight configurations with one directed edge between two nodes (one can draw them by hand to convince himself)\n",
    "5. For the eight configurations of a triplet, try to get the sign of the directed edges in the directed dictionnary representation of the graph.\n",
    "6. If the directed configuration of edges do not exist an exception is raised, because one or more edges are not present in the directed dictionary and we handle them by simply passing.\n",
    "7. If the configuration do exist, sum the sign of the triangle's edges to discriminate between the four kind of signed triangles (see image below).\n",
    "8. Store the signed triangle in the appropriated list in the output dictionnary.\n",
    "\n",
    "<img src=\"https://raw.githubusercontent.com/sebemery/ADA-CS401/main/SignedNetworks/images/signed_triangles.PNG\" height=\"800\" width=\"400\">"
   ]
  },
  {
   "cell_type": "code",
   "execution_count": 27,
   "metadata": {},
   "outputs": [],
   "source": [
    "def signed_triangles(triplet,m_dir):\n",
    "    \"\"\"\n",
    "    A function that compute the number of signed triangle given the triangle and the directed representation of the graph\n",
    "    \n",
    "    Input : A set of tuples constituting the triangles and a sparse dictonnary representation of the directed graph\n",
    "    Output : A dictionary of each kind of signed triangles stored as lists containing the edges as tuples\n",
    "    \"\"\"\n",
    "    # output dictionary of singed triangles stored in lists\n",
    "    out = { 'T0': [], 'T1': [], 'T2': [], 'T3': []}\n",
    "    # Iterate over every triplets of nodes constituting a triangle\n",
    "    for i,t in enumerate(triplet): \n",
    "        # config 1 : a->b->c->a\n",
    "        try:\n",
    "            # sum over the sign of the directed edges in the triangle\n",
    "            sum_sign = m_dir[t[0]][t[1]]['Sign'] + m_dir[t[1]][t[2]]['Sign'] + m_dir[t[2]][t[0]]['Sign']\n",
    "            # lists of tuples representing the directed edges with the first element pointing to the second element of the tuple\n",
    "            t_signed = [tuple((t[0],t[1])),tuple((t[1],t[2])),tuple((t[2],t[0]))]\n",
    "            if sum_sign == -3:\n",
    "                out['T0'].append(t_signed)\n",
    "            if sum_sign == -1:\n",
    "                 out['T1'].append(t_signed)\n",
    "            if sum_sign == 1:\n",
    "                out['T2'].append(t_signed)\n",
    "            if sum_sign == 3:\n",
    "                out['T3'].append(t_signed)\n",
    "\n",
    "        except KeyError :\n",
    "            pass\n",
    "        # config 2 : a->c->b->a   \n",
    "        try:\n",
    "            # sum over the sign of the directed edges in the triangle\n",
    "            sum_sign = m_dir[t[0]][t[2]]['Sign'] + m_dir[t[2]][t[1]]['Sign'] + m_dir[t[1]][t[0]]['Sign']\n",
    "            # lists of tuples representing the directed edges with the first element pointing to the second element of the tuple\n",
    "            t_signed = [tuple((t[0],t[2])),tuple((t[2],t[1])),tuple((t[1],t[0]))]\n",
    "            if sum_sign == -3:\n",
    "                out['T0'].append(t_signed)\n",
    "            if sum_sign == -1:\n",
    "                 out['T1'].append(t_signed)\n",
    "            if sum_sign == 1:\n",
    "                out['T2'].append(t_signed)\n",
    "            if sum_sign == 3:\n",
    "                out['T3'].append(t_signed)\n",
    "\n",
    "        except KeyError :\n",
    "            pass\n",
    "        # config 3 : c<-a->b->c\n",
    "        try:\n",
    "            # sum over the sign of the directed edges in the triangle\n",
    "            sum_sign = m_dir[t[0]][t[1]]['Sign'] + m_dir[t[0]][t[2]]['Sign'] + m_dir[t[1]][t[2]]['Sign']\n",
    "            # lists of tuples representing the directed edges with the first element pointing to the second element of the tuple\n",
    "            t_signed = [tuple((t[0],t[1])),tuple((t[0],t[2])),tuple((t[1],t[2]))]\n",
    "            if sum_sign == -3:\n",
    "                out['T0'].append(t_signed)\n",
    "            if sum_sign == -1:\n",
    "                 out['T1'].append(t_signed)\n",
    "            if sum_sign == 1:\n",
    "                out['T2'].append(t_signed)\n",
    "            if sum_sign == 3:\n",
    "                out['T3'].append(t_signed)\n",
    "\n",
    "        except KeyError :\n",
    "            pass\n",
    "        # config 4 : c<-a->b<-c\n",
    "        try:\n",
    "            # sum over the sign of the directed edges in the triangle\n",
    "            sum_sign = m_dir[t[0]][t[1]]['Sign'] + m_dir[t[0]][t[2]]['Sign'] + m_dir[t[2]][t[1]]['Sign']\n",
    "            # lists of tuples representing the directed edges with the first element pointing to the second element of the tuple\n",
    "            t_signed = [tuple((t[0],t[1])),tuple((t[0],t[2])),tuple((t[2],t[1]))]\n",
    "            if sum_sign == -3:\n",
    "                out['T0'].append(t_signed)\n",
    "            if sum_sign == -1:\n",
    "                 out['T1'].append(t_signed)\n",
    "            if sum_sign == 1:\n",
    "                out['T2'].append(t_signed)\n",
    "            if sum_sign == 3:\n",
    "                out['T3'].append(t_signed)\n",
    "\n",
    "        except KeyError :\n",
    "            pass\n",
    "        # config 5 : c->a<-b->c  \n",
    "        try:\n",
    "            # sum over the sign of the directed edges in the triangle\n",
    "            sum_sign = m_dir[t[1]][t[0]]['Sign'] + m_dir[t[2]][t[0]]['Sign'] + m_dir[t[1]][t[2]]['Sign']\n",
    "            # lists of tuples representing the directed edges with the first element pointing to the second element of the tuple\n",
    "            t_signed = [tuple((t[1],t[0])),tuple((t[2],t[0])),tuple((t[1],t[2]))]\n",
    "            if sum_sign == -3:\n",
    "                out['T0'].append(t_signed)\n",
    "            if sum_sign == -1:\n",
    "                 out['T1'].append(t_signed)\n",
    "            if sum_sign == 1:\n",
    "                out['T2'].append(t_signed)\n",
    "            if sum_sign == 3:\n",
    "                out['T3'].append(t_signed)\n",
    "\n",
    "        except KeyError :\n",
    "            pass\n",
    "        # config 6 :   c->a<-b<-c  \n",
    "        try:\n",
    "            # sum over the sign of the directed edges in the triangle\n",
    "            sum_sign = m_dir[t[1]][t[0]]['Sign'] + m_dir[t[2]][t[0]]['Sign'] + m_dir[t[2]][t[1]]['Sign']\n",
    "            # lists of tuples representing the directed edges with the first element pointing to the second element of the tuple\n",
    "            t_signed = [tuple((t[1],t[0])),tuple((t[2],t[0])),tuple((t[2],t[1]))]\n",
    "            if sum_sign == -3:\n",
    "                out['T0'].append(t_signed)\n",
    "            if sum_sign == -1:\n",
    "                 out['T1'].append(t_signed)\n",
    "            if sum_sign == 1:\n",
    "                out['T2'].append(t_signed)\n",
    "            if sum_sign == 3:\n",
    "                out['T3'].append(t_signed)\n",
    "\n",
    "        except KeyError :\n",
    "            pass\n",
    "            \n",
    "        # config 7  :c->a->b<-c\n",
    "        try:\n",
    "            # sum over the sign of the directed edges in the triangle\n",
    "            sum_sign = m_dir[t[0]][t[1]]['Sign'] + m_dir[t[2]][t[0]]['Sign'] + m_dir[t[2]][t[1]]['Sign']\n",
    "            # lists of tuples representing the directed edges with the first element pointing to the second element of the tuple\n",
    "            t_signed = [tuple((t[0],t[1])),tuple((t[2],t[0])),tuple((t[2],t[1]))]\n",
    "            if sum_sign == -3:\n",
    "                out['T0'].append(t_signed)\n",
    "            if sum_sign == -1:\n",
    "                 out['T1'].append(t_signed)\n",
    "            if sum_sign == 1:\n",
    "                out['T2'].append(t_signed)\n",
    "            if sum_sign == 3:\n",
    "                out['T3'].append(t_signed)\n",
    "\n",
    "        except KeyError :\n",
    "            pass\n",
    "            \n",
    "        # config 8 : c<-a<-b->c\n",
    "        try:\n",
    "            # sum over the sign of the directed edges in the triangle\n",
    "            sum_sign = m_dir[t[0]][t[2]]['Sign'] + m_dir[t[1]][t[0]]['Sign'] + m_dir[t[1]][t[2]]['Sign']\n",
    "            # lists of tuples representing the directed edges with the first element pointing to the second element of the tuple\n",
    "            t_signed = [tuple((t[0],t[2])),tuple((t[1],t[0])),tuple((t[1],t[2]))]\n",
    "            if sum_sign == -3:\n",
    "                out['T0'].append(t_signed)\n",
    "            if sum_sign == -1:\n",
    "                 out['T1'].append(t_signed)\n",
    "            if sum_sign == 1:\n",
    "                out['T2'].append(t_signed)\n",
    "            if sum_sign == 3:\n",
    "                out['T3'].append(t_signed)\n",
    "\n",
    "        except KeyError :\n",
    "            pass\n",
    "    return out"
   ]
  },
  {
   "cell_type": "code",
   "execution_count": 28,
   "metadata": {},
   "outputs": [
    {
     "name": "stdout",
     "output_type": "stream",
     "text": [
      "The number of signed triangles for epinions is  : 13317672\n",
      "The number of T0 signed triangles for epinions is  : 87668\n",
      "The number of T1 signed triangles for epinions is  : 688557\n",
      "The number of T2 signed triangles for epinions is  : 924739\n",
      "The number of T3 signed triangles for epinions is  : 11616708\n",
      "Wall time: 1min 19s\n"
     ]
    }
   ],
   "source": [
    "%%time\n",
    "# epinions\n",
    "# construct the directed dictionary\n",
    "Epinions_dict_dir = nx.to_dict_of_dicts(G_epinions)\n",
    "# compute the signed triangles using the set of triplets from part 3\n",
    "epinions_signed_triangles = signed_triangles(epinions_triangles[3],Epinions_dict_dir)\n",
    "# sum over each signed triangle's type to get the overall number\n",
    "epinions_total_signed_triangles = len(epinions_signed_triangles['T0'])+len(epinions_signed_triangles['T1'])+len(epinions_signed_triangles['T2'])+len(epinions_signed_triangles['T3'])\n",
    "print('The number of signed triangles for epinions is  : {n}'.format(n=epinions_total_signed_triangles ))\n",
    "print('The number of T0 signed triangles for epinions is  : {n}'.format(n=len(epinions_signed_triangles['T0']) ))\n",
    "print('The number of T1 signed triangles for epinions is  : {n}'.format(n=len(epinions_signed_triangles['T1']) ))\n",
    "print('The number of T2 signed triangles for epinions is  : {n}'.format(n=len(epinions_signed_triangles['T2']) ))\n",
    "print('The number of T3 signed triangles for epinions is  : {n}'.format(n=len(epinions_signed_triangles['T3']) ))"
   ]
  },
  {
   "cell_type": "code",
   "execution_count": 29,
   "metadata": {},
   "outputs": [
    {
     "name": "stdout",
     "output_type": "stream",
     "text": [
      "The number of signed triangles for sladshot is  : 1508105\n",
      "The number of T0 signed triangles for sladshot is  : 16272\n",
      "The number of T1 signed triangles for sladshot is  : 115884\n",
      "The number of T2 signed triangles for sladshot is  : 109303\n",
      "The number of T3 signed triangles for sladshot is  : 1266646\n",
      "Wall time: 11.9 s\n"
     ]
    }
   ],
   "source": [
    "%%time\n",
    "# sladshot\n",
    "# construct the directed dictionary\n",
    "Sladshot_dict_dir = nx.to_dict_of_dicts(G_sladshot)\n",
    "# compute the signed triangles using the set of triplets from part 3\n",
    "sladshot_signed_triangles = signed_triangles(sladshot_triangles[3],Sladshot_dict_dir)\n",
    "# sum over each signed triangle's type to get the overall number\n",
    "sladshot_total_signed_triangles = len(sladshot_signed_triangles['T0'])+len(sladshot_signed_triangles['T1'])+len(sladshot_signed_triangles['T2'])+len(sladshot_signed_triangles['T3'])\n",
    "print('The number of signed triangles for sladshot is  : {n}'.format(n=sladshot_total_signed_triangles))\n",
    "print('The number of T0 signed triangles for sladshot is  : {n}'.format(n=len(sladshot_signed_triangles['T0'])))\n",
    "print('The number of T1 signed triangles for sladshot is  : {n}'.format(n=len(sladshot_signed_triangles['T1'])))\n",
    "print('The number of T2 signed triangles for sladshot is  : {n}'.format(n=len(sladshot_signed_triangles['T2'])))\n",
    "print('The number of T3 signed triangles for sladshot is  : {n}'.format(n=len(sladshot_signed_triangles['T3'])))"
   ]
  },
  {
   "cell_type": "code",
   "execution_count": 30,
   "metadata": {},
   "outputs": [
    {
     "name": "stdout",
     "output_type": "stream",
     "text": [
      "The number of signed triangles for wikipedia is  : 790532\n",
      "The number of T0 signed triangles for wikipedia is  : 8479\n",
      "The number of T1 signed triangles for wikipedia is  : 63425\n",
      "The number of T2 signed triangles for wikipedia is  : 163328\n",
      "The number of T3 signed triangles for wikipedia is  : 555300\n",
      "Wall time: 5.06 s\n"
     ]
    }
   ],
   "source": [
    "%%time\n",
    "# wikipedia\n",
    "# construct the directed dictionary\n",
    "Wikipedia_dict_dir = nx.to_dict_of_dicts(G_wikipedia)\n",
    "# compute the signed triangles using the set of triplets from part 3\n",
    "wikipedia_signed_triangles = signed_triangles(wikipedia_triangles[3],Wikipedia_dict_dir)\n",
    "# sum over each signed triangle's type to get the overall number\n",
    "wikipedia_total_signed_triangles = len(wikipedia_signed_triangles['T0'])+len(wikipedia_signed_triangles['T1'])+len(wikipedia_signed_triangles['T2'])+len(wikipedia_signed_triangles['T3'])\n",
    "print('The number of signed triangles for wikipedia is  : {n}'.format(n=wikipedia_total_signed_triangles ))\n",
    "print('The number of T0 signed triangles for wikipedia is  : {n}'.format(n= len(wikipedia_signed_triangles['T0']) ))\n",
    "print('The number of T1 signed triangles for wikipedia is  : {n}'.format(n= len(wikipedia_signed_triangles['T1']) ))\n",
    "print('The number of T2 signed triangles for wikipedia is  : {n}'.format(n= len(wikipedia_signed_triangles['T2']) ))\n",
    "print('The number of T3 signed triangles for wikipedia is  : {n}'.format(n= len(wikipedia_signed_triangles['T3']) ))"
   ]
  },
  {
   "cell_type": "markdown",
   "metadata": {},
   "source": [
    "We confirmed the results obtained in A) by obtaining the same values for all three networks. Thus, we do not need to repeat the observations made in the last point for the replication of the table, the statistics are the same."
   ]
  },
  {
   "cell_type": "markdown",
   "metadata": {},
   "source": [
    "#### Results \n",
    "\n",
    "We summarize the signed triangles' results obtained in the following table :\n",
    "\n",
    "|                        |    Epinions   |   Sladshot   |   Wikipedia   |\n",
    "|------------------------|:-------------:|:------------:|--------------:|\n",
    "|        $T_{0}$ (---)   |    87668      |    16272     |     8479      |\n",
    "|        $T_{1}$ (+--)   |    688557     |    115884    |     63425     |\n",
    "|        $T_{2}$ (++-)   |   924739      |    109303    |     163328    |\n",
    "|        $T_{3}$ (+++)   |   11616708    |   1266646    |     555300    |\n",
    "|         Total          |   13317672    |   1508105    |     790532    |"
   ]
  },
  {
   "cell_type": "markdown",
   "metadata": {},
   "source": [
    "We see that we obtain the same numbers for the different kind of signed triangle in epinions and wikipedia graphs. As expected, epinions differ also for each kind. Thus, it reinforce the fact that they could have worked with a slightly different dataset or they performed a non obvious preprocessing step that we weren't able to reproduce given the elements in the paper. Nontheless, we were able to reproduce table 1 pretty accurately."
   ]
  },
  {
   "cell_type": "markdown",
   "metadata": {},
   "source": [
    "# 5) Replication of Table 3\n",
    "In this section, we will try to replicate table 3. We re-use the signed triangle implementation which is exactly what the table is about. We found the distribution of signed triangles in the last section and we will re-use the results obtained in this part. First, we use these results to obtain the percentage of each kind present in the graphs and denote them as $p(T_{i})$. Then, we compare this empirical frequency of triangles to frequencies obtained from the same background of positive and negative edges, but assigned at random. Finally, we compute a surprise score for the triads to measure how significant the difference is. Thus, we shuflle the sign of each network and recompute the triangle's frequency which we called $p_{0}(T_{i})$."
   ]
  },
  {
   "cell_type": "markdown",
   "metadata": {},
   "source": [
    "#### A) Empirical triads frequency\n",
    "In this subsection, we compute the percentage of each kind of triangles by dividing the specific number by the overall number. We re-use the results obtained in the last subsection signed triangles."
   ]
  },
  {
   "cell_type": "code",
   "execution_count": 31,
   "metadata": {},
   "outputs": [],
   "source": [
    "def compute_fraction(output, total):\n",
    "    \"\"\"\n",
    "    Take as input the dictionary result from the last part : ouptut\n",
    "    Take the total number of signed triangle of the last part : total\n",
    "    \n",
    "    Output : dataframe containing the distribution of signed triangle and another one containing the fraction\n",
    "    \"\"\"\n",
    "    \n",
    "    output_dict = { 'T0': [len(output['T0'])], 'T1': [len(output['T1'])], 'T2': [len(output['T2'])], 'T3': [len(output['T3'])]}\n",
    "    data = pd.DataFrame.from_dict(output_dict, orient='columns')\n",
    "    fraction = data / total\n",
    "    return data,fraction"
   ]
  },
  {
   "cell_type": "code",
   "execution_count": 32,
   "metadata": {},
   "outputs": [
    {
     "name": "stdout",
     "output_type": "stream",
     "text": [
      "The fraction of T0 signed triangles for epinions is  : 0.007\n",
      "The fraction of T1 signed triangles for epinions is  : 0.052\n",
      "The fraction of T2 signed triangles for epinions is  : 0.069\n",
      "The fraction of T3 signed triangles for epinions is  : 0.872\n"
     ]
    }
   ],
   "source": [
    "data_epinions,fraction_epinions = compute_fraction(epinions_signed_triangles, epinions_total_signed_triangles)\n",
    "print('The fraction of T0 signed triangles for epinions is  : {n:.3f}'.format(n= fraction_epinions['T0'].values[0] ))\n",
    "print('The fraction of T1 signed triangles for epinions is  : {n:.3f}'.format(n= fraction_epinions['T1'].values[0] ))\n",
    "print('The fraction of T2 signed triangles for epinions is  : {n:.3f}'.format(n= fraction_epinions['T2'].values[0] ))\n",
    "print('The fraction of T3 signed triangles for epinions is  : {n:.3f}'.format(n= fraction_epinions['T3'].values[0] ))"
   ]
  },
  {
   "cell_type": "code",
   "execution_count": 33,
   "metadata": {},
   "outputs": [
    {
     "name": "stdout",
     "output_type": "stream",
     "text": [
      "The fraction of T0 signed triangles for sladshot is  : 0.011\n",
      "The fraction of T1 signed triangles for sladshot is  : 0.077\n",
      "The fraction of T2 signed triangles for sladshot is  : 0.072\n",
      "The fraction of T3 signed triangles for sladshot is  : 0.840\n"
     ]
    }
   ],
   "source": [
    "data_sladshot,fraction_sladshot = compute_fraction(sladshot_signed_triangles, sladshot_total_signed_triangles)\n",
    "print('The fraction of T0 signed triangles for sladshot is  : {n:.3f}'.format(n= fraction_sladshot['T0'].values[0] ))\n",
    "print('The fraction of T1 signed triangles for sladshot is  : {n:.3f}'.format(n= fraction_sladshot['T1'].values[0] ))\n",
    "print('The fraction of T2 signed triangles for sladshot is  : {n:.3f}'.format(n= fraction_sladshot['T2'].values[0] ))\n",
    "print('The fraction of T3 signed triangles for sladshot is  : {n:.3f}'.format(n= fraction_sladshot['T3'].values[0] ))"
   ]
  },
  {
   "cell_type": "code",
   "execution_count": 34,
   "metadata": {},
   "outputs": [
    {
     "name": "stdout",
     "output_type": "stream",
     "text": [
      "The fraction of T0 signed triangles for wikipedia is  : 0.011\n",
      "The fraction of T1 signed triangles for wikipedia is  : 0.080\n",
      "The fraction of T2 signed triangles for wikipedia is  : 0.207\n",
      "The fraction of T3 signed triangles for wikipedia is  : 0.702\n"
     ]
    }
   ],
   "source": [
    "data_wikipedia,fraction_wikipedia = compute_fraction(wikipedia_signed_triangles, wikipedia_total_signed_triangles)\n",
    "print('The fraction of T0 signed triangles for wikipedia is  : {n:.3f}'.format(n= fraction_wikipedia['T0'].values[0] ))\n",
    "print('The fraction of T1 signed triangles for wikipedia is  : {n:.3f}'.format(n= fraction_wikipedia['T1'].values[0] ))\n",
    "print('The fraction of T2 signed triangles for wikipedia is  : {n:.3f}'.format(n= fraction_wikipedia['T2'].values[0] ))\n",
    "print('The fraction of T3 signed triangles for wikipedia is  : {n:.3f}'.format(n= fraction_wikipedia['T3'].values[0] ))"
   ]
  },
  {
   "cell_type": "markdown",
   "metadata": {},
   "source": [
    "#### B) Random frequency and surprise score\n",
    "In this subsection, we shuffle the sign of the edges in the network using the sample function of pandas, thus creating a new edge_list. We create multiple shuffled edges list using different seed and average it. Then, the a priori probability of triad $T_{i}$ is computed by dividing the number of specific triad by the overall and it is called $p_{0}(T_{i})$ . Then we say that a type of triads is overrepresented relative to the chance (random) if $p(T_{i})>p_{0}(T_{i})$. To measure how significatif the difference is, we compute the suprise  as described in the paper: $s(T_{i}) = \\frac{T_{i}-E[T_{i}]}{\\sqrt{\\Delta \\cdot p_{0}(T_{i}) \\cdot(1-p_{0}(T_{i}))}}$. This represent the number of standard deviations by which the empirical number of triads $T_{i}$ differs from the expected number under the random-shuffling model which tend to a normal law by the central limit theorem. This is already very significant for surprise on the order of ten."
   ]
  },
  {
   "cell_type": "code",
   "execution_count": 35,
   "metadata": {},
   "outputs": [],
   "source": [
    "def shuffle_signs_triangles(random_states,graph):\n",
    "    \"\"\"\n",
    "    A function that creates multiples shuffled version of the graph taken as input and ouptut a dictionnary with the\n",
    "    distribution of the signed triangles for each of them\n",
    "    \n",
    "    Input : 1) list of seeds to shuffle the edge list\n",
    "            2) edge_list (dataframe) of the graph\n",
    "    \n",
    "    Output : Dictionnary of the signed triangles distribution for each shuffled version\n",
    "    \"\"\"\n",
    "    # output dictionary containing the distribution of signed triangles for multiples random states\n",
    "    out = { 'T0': [], 'T1': [], 'T2': [], 'T3': []}\n",
    "    \n",
    "    # iterate over the random states\n",
    "    for seed in random_states:\n",
    "        \n",
    "        # shuffle the signs\n",
    "        sign = graph.drop(['FromNodeId','ToNodeId'], axis=1)\n",
    "        sign = sign.sample(frac=1, random_state=seed)\n",
    "        sign.reset_index(inplace=True, drop=True)\n",
    "        graph_shuffled = graph.copy()\n",
    "        graph_shuffled['Sign'] = sign['Sign']\n",
    "        \n",
    "        # create a graph\n",
    "        G_graph_shuffled = nx.from_pandas_edgelist(graph_shuffled, 'FromNodeId', 'ToNodeId',[\"Sign\"], create_using=nx.DiGraph())\n",
    "        \n",
    "        # compute triangles\n",
    "        # undirected representation\n",
    "        G_graph_s_un = G_graph_shuffled.to_undirected()\n",
    "        # get the dictionary\n",
    "        graph_s_dict = nx.to_dict_of_dicts(G_graph_s_un)\n",
    "        #compute triangles\n",
    "        graph_s_triangles = triangles(graph_s_dict)\n",
    "        \n",
    "        # compute signed triangles\n",
    "        # construct the directed dictionary\n",
    "        graph_dict_dir = nx.to_dict_of_dicts(G_graph_shuffled)\n",
    "        # compute the signed triangles using the set of triplets from part 3\n",
    "        graph_signed_triangles = signed_triangles(graph_s_triangles[3],graph_dict_dir)\n",
    "        \n",
    "        # output dictionnary\n",
    "        out['T0'].append(len(graph_signed_triangles['T0']))\n",
    "        out['T1'].append(len(graph_signed_triangles['T1']))\n",
    "        out['T2'].append(len(graph_signed_triangles['T2']))\n",
    "        out['T3'].append(len(graph_signed_triangles['T3']))\n",
    "    return out"
   ]
  },
  {
   "cell_type": "code",
   "execution_count": 36,
   "metadata": {},
   "outputs": [],
   "source": [
    "def compute_stats(data, output_shuffle, delta):\n",
    "    \"\"\"\n",
    "    Compute the prior probability and the surprise for each kind of signed triangle by averaging the shuffled \n",
    "    version statistics\n",
    "    \n",
    "    Input : 1) dictionnary of the empirical distribution\n",
    "            2) dictionnary of the shuffled version distribution\n",
    "            3) Total number of triangles in the network\n",
    "            \n",
    "    Output : 1) dataframe containing the prior probability of each kind\n",
    "             2) dataframe containing the surprise of each kind of triangle\n",
    "    \"\"\"\n",
    "    data_shuffle = pd.DataFrame.from_dict(output_shuffle, orient='columns')\n",
    "    means = pd.Series(data_shuffle.mean())\n",
    "    p_0 = means/delta\n",
    "    data = data.append(p_0,ignore_index=True)\n",
    "    s =  data.apply(lambda x: (x[0]-delta*x[1])/np.sqrt(((delta*x[1])*(1-x[1]))), axis=0)\n",
    "    return p_0,s"
   ]
  },
  {
   "cell_type": "code",
   "execution_count": 37,
   "metadata": {},
   "outputs": [],
   "source": [
    "out_epinions = shuffle_signs_triangles([0,1,2,3,4,5,6,7,8,9], epinions)"
   ]
  },
  {
   "cell_type": "code",
   "execution_count": 38,
   "metadata": {},
   "outputs": [],
   "source": [
    "out_sladshot = shuffle_signs_triangles([0,1,2,3,4,5,6,7,8,9], sladshot)"
   ]
  },
  {
   "cell_type": "code",
   "execution_count": 39,
   "metadata": {},
   "outputs": [],
   "source": [
    "out_wikipedia = shuffle_signs_triangles([0,1,2,3,4,5,6,7,8,9], wikipedia_duplicated)"
   ]
  },
  {
   "cell_type": "code",
   "execution_count": 40,
   "metadata": {},
   "outputs": [
    {
     "name": "stdout",
     "output_type": "stream",
     "text": [
      "The a priori probability of T0 signed triangles for epinions is : 0.003\n",
      "The a priori probability of T1 signed triangles for epinions is : 0.055\n",
      "The a priori probability of T2 signed triangles for epinions is : 0.321\n",
      "The a priori probability of T3 signed triangles for epinions is : 0.621\n",
      "The surprise of T0 signed triangles for epinions is : 221.155\n",
      "The surprise of T1 signed triangles for epinions is : -55.056\n",
      "The surprise of T2 signed triangles for epinions is : -1964.611\n",
      "The surprise of T3 signed triangles for epinions is : 1890.378\n"
     ]
    }
   ],
   "source": [
    "p_0_epinions ,s_epinions= compute_stats(data_epinions,out_epinions,epinions_total_signed_triangles)\n",
    "print('The a priori probability of T0 signed triangles for epinions is : {n:.3f}'.format(n= p_0_epinions['T0'] ))\n",
    "print('The a priori probability of T1 signed triangles for epinions is : {n:.3f}'.format(n= p_0_epinions['T1'] ))\n",
    "print('The a priori probability of T2 signed triangles for epinions is : {n:.3f}'.format(n= p_0_epinions['T2'] ))\n",
    "print('The a priori probability of T3 signed triangles for epinions is : {n:.3f}'.format(n= p_0_epinions['T3'] ))\n",
    "print('The surprise of T0 signed triangles for epinions is : {n:.3f}'.format(n= s_epinions['T0'] ))\n",
    "print('The surprise of T1 signed triangles for epinions is : {n:.3f}'.format(n= s_epinions['T1'] ))\n",
    "print('The surprise of T2 signed triangles for epinions is : {n:.3f}'.format(n= s_epinions['T2'] ))\n",
    "print('The surprise of T3 signed triangles for epinions is : {n:.3f}'.format(n= s_epinions['T3']))"
   ]
  },
  {
   "cell_type": "code",
   "execution_count": 44,
   "metadata": {},
   "outputs": [
    {
     "name": "stdout",
     "output_type": "stream",
     "text": [
      "The a priori probability of T0 signed triangles for sladshot is : 0.011\n",
      "The a priori probability of T1 signed triangles for sladshot is : 0.118\n",
      "The a priori probability of T2 signed triangles for sladshot is : 0.406\n",
      "The a priori probability of T3 signed triangles for sladshot is : 0.465\n",
      "The surprise of T0 signed triangles for sladshot is : -7.431\n",
      "The surprise of T1 signed triangles for sladshot is : -156.348\n",
      "The surprise of T2 signed triangles for sladshot is : -833.837\n",
      "The surprise of T3 signed triangles for sladshot is : 923.656\n"
     ]
    }
   ],
   "source": [
    "p_0_sladshot ,s_sladshot= compute_stats(data_sladshot,out_sladshot,sladshot_total_signed_triangles)\n",
    "print('The a priori probability of T0 signed triangles for sladshot is : {n:.3f}'.format(n= p_0_sladshot['T0'] ))\n",
    "print('The a priori probability of T1 signed triangles for sladshot is : {n:.3f}'.format(n= p_0_sladshot['T1'] ))\n",
    "print('The a priori probability of T2 signed triangles for sladshot is : {n:.3f}'.format(n= p_0_sladshot['T2'] ))\n",
    "print('The a priori probability of T3 signed triangles for sladshot is : {n:.3f}'.format(n= p_0_sladshot['T3'] ))\n",
    "print('The surprise of T0 signed triangles for sladshot is : {n:.3f}'.format(n= s_sladshot['T0'] ))\n",
    "print('The surprise of T1 signed triangles for sladshot is : {n:.3f}'.format(n= s_sladshot['T1'] ))\n",
    "print('The surprise of T2 signed triangles for sladshot is : {n:.3f}'.format(n= s_sladshot['T2'] ))\n",
    "print('The surprise of T3 signed triangles for sladshot is : {n:.3f}'.format(n= s_sladshot['T3']))"
   ]
  },
  {
   "cell_type": "code",
   "execution_count": 42,
   "metadata": {},
   "outputs": [
    {
     "name": "stdout",
     "output_type": "stream",
     "text": [
      "The a priori probability of T0 signed triangles for wikipedia is : 0.010\n",
      "The a priori probability of T1 signed triangles for wikipedia is : 0.107\n",
      "The a priori probability of T2 signed triangles for wikipedia is : 0.395\n",
      "The a priori probability of T3 signed triangles for wikipedia is : 0.489\n",
      "The surprise of T0 signed triangles for wikipedia is : 10.098\n",
      "The surprise of T1 signed triangles for wikipedia is : -76.138\n",
      "The surprise of T2 signed triangles for wikipedia is : -342.893\n",
      "The surprise of T3 signed triangles for wikipedia is : 380.403\n"
     ]
    }
   ],
   "source": [
    "p_0_wikipedia ,s_wikipedia= compute_stats(data_wikipedia,out_wikipedia,wikipedia_total_signed_triangles)\n",
    "print('The a priori probability of T0 signed triangles for wikipedia is : {n:.3f}'.format(n= p_0_wikipedia['T0'] ))\n",
    "print('The a priori probability of T1 signed triangles for wikipedia is : {n:.3f}'.format(n= p_0_wikipedia['T1'] ))\n",
    "print('The a priori probability of T2 signed triangles for wikipedia is : {n:.3f}'.format(n= p_0_wikipedia['T2'] ))\n",
    "print('The a priori probability of T3 signed triangles for wikipedia is : {n:.3f}'.format(n= p_0_wikipedia['T3'] ))\n",
    "print('The surprise of T0 signed triangles for wikipedia is : {n:.3f}'.format(n= s_wikipedia['T0'] ))\n",
    "print('The surprise of T1 signed triangles for wikipedia is : {n:.3f}'.format(n= s_wikipedia['T1'] ))\n",
    "print('The surprise of T2 signed triangles for wikipedia is : {n:.3f}'.format(n= s_wikipedia['T2'] ))\n",
    "print('The surprise of T3 signed triangles for wikipedia is : {n:.3f}'.format(n= s_wikipedia['T3']))"
   ]
  },
  {
   "cell_type": "markdown",
   "metadata": {},
   "source": [
    "#### Results \n",
    "\n",
    "We summarize the signed triangles' results obtained in the following table' :\n",
    "\n",
    "|       Epinions        |   $T_{i}$     |  $p(T_{i})$  |   $p_{0} $     |  $s(T_{i})$ |  \n",
    "|-----------------------|:-------------:|-------------:|----------------|------------:|\n",
    "|       $T_{0}$ (---)   |    87668      |    0.007     |     0.003      |   221.155   |\n",
    "|       $T_{1}$ (+--)   |    688557     |    0.052     |     0.055      |   -55.056   |\n",
    "|       $T_{2}$ (++-)   |    924739     |    0.069     |     0.321      |   -1964.611 |\n",
    "|       $T_{3}$ (+++)   |   11616708    |    0.872     |     0.621      |   1890.378  |\n",
    "\n",
    "\n",
    "|       Sladshot        |   $T_{i}$     |  $p(T_{i})$  |   $p_{0} $   |  $s(T_{i})$ |  \n",
    "|-----------------------|:-------------:|-------------:|----------------|------------:|\n",
    "|       $T_{0}$ (---)   |    16272      |    0.011     |     0.011      |   -7.431    |\n",
    "|       $T_{1}$ (+--)   |    115884     |    0.077     |     0.118      |   -156.348  |\n",
    "|       $T_{2}$ (++-)   |    109303     |    0.072     |     0.406      |   -833.837  |\n",
    "|       $T_{3}$ (+++)   |   1266646     |    0.840     |     0.465      |   923.656   |\n",
    "\n",
    "\n",
    "\n",
    "|       Wikipedia       |   $T_{i}$     |  $p(T_{i})$  |   $p_{0} $     |  $s(T_{i})$ |  \n",
    "|-----------------------|:-------------:|-------------:|----------------|------------:|\n",
    "|       $T_{0}$ (---)   |    8479       |    0.011     |     0.010      |   10.098    |\n",
    "|       $T_{1}$ (+--)   |    63425      |    0.080     |     0.107      |   -76.138   |\n",
    "|       $T_{2}$ (++-)   |    163328     |    0.207     |     0.395      |   -342.893  |\n",
    "|       $T_{3}$ (+++)   |   555300      |    0.702     |     0.489      |   380.403   |\n"
   ]
  },
  {
   "cell_type": "markdown",
   "metadata": {},
   "source": [
    "#### Observation:\n",
    "1. For all statistics, the numbers for $T_{1}$ and $T_{2}$ triads are inverted compared to the paper's number. However, in the case of epinions and sladshot the value found are exactly the same and after discussion with other students, they also found this inversion. Thus, the inversion is likely due to the authors and we won't mentionned it below.\n",
    "2. As already mentionned in the previous step, for both epinions and sladshot we foind the exact same number of triads of each type. For the wikipedia dataset, we find value in the same order of magnitude . Thus, we succesfully managed to find the number of each triads in each dataset.\n",
    "3. The empirical and prior probabilities of the triads follow the same observation as stated for the triads number. However, results are accurate to the thousandth which is negligeable.\n",
    "4. Surprise value for triads $T_{1}$ and $T_{2}$ are in the same order of magnitudes compared to the paper. However, $T_{1}$ and $T_{2}$ surprise value seems to differ from the paper for epinions and wikipedia and have the same order of magnitude for sladshot."
   ]
  },
  {
   "cell_type": "markdown",
   "metadata": {},
   "source": [
    "#### Discussion:\n",
    "1. All $T_{3}$ triads are overrepresented compared to the chance which fits Heider's theory\n",
    "2. All $T_{2}$ triads are underrepresented compared to the chance which fits Heider's theory\n",
    "3. $T_{1}$ triads are slightly overrepresented compared to the chance which fits more Davis's weaker notion of balance\n",
    "4. $T_{0}$ triads are slightly underrepresented compared to the chance which fits more Davis's weaker notion of balance\n",
    "\n",
    "In conclusion, we were able to reproduce qualitatively the result of the paper and draw approximately the same conclusion, even if the numercial results differ a little bit."
   ]
  },
  {
   "cell_type": "code",
   "execution_count": null,
   "metadata": {},
   "outputs": [],
   "source": []
  }
 ],
 "metadata": {
  "kernelspec": {
   "display_name": "Python 3",
   "language": "python",
   "name": "python3"
  },
  "language_info": {
   "codemirror_mode": {
    "name": "ipython",
    "version": 3
   },
   "file_extension": ".py",
   "mimetype": "text/x-python",
   "name": "python",
   "nbconvert_exporter": "python",
   "pygments_lexer": "ipython3",
   "version": "3.7.6"
  }
 },
 "nbformat": 4,
 "nbformat_minor": 4
}
